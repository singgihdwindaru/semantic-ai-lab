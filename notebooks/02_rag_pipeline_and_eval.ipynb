{
 "cells": [
  {
   "cell_type": "markdown",
   "id": "317282a6",
   "metadata": {},
   "source": [
    "**Setup Import**"
   ]
  },
  {
   "cell_type": "code",
   "execution_count": null,
   "id": "1a85fb35",
   "metadata": {},
   "outputs": [
    {
     "ename": "NameError",
     "evalue": "name '__file__' is not defined",
     "output_type": "error",
     "traceback": [
      "\u001b[31m---------------------------------------------------------------------------\u001b[39m",
      "\u001b[31mNameError\u001b[39m                                 Traceback (most recent call last)",
      "\u001b[36mCell\u001b[39m\u001b[36m \u001b[39m\u001b[32mIn[1]\u001b[39m\u001b[32m, line 4\u001b[39m\n\u001b[32m      1\u001b[39m \u001b[38;5;28;01mimport\u001b[39;00m\u001b[38;5;250m \u001b[39m\u001b[34;01msys\u001b[39;00m\n\u001b[32m      2\u001b[39m \u001b[38;5;28;01mfrom\u001b[39;00m\u001b[38;5;250m \u001b[39m\u001b[34;01mpathlib\u001b[39;00m\u001b[38;5;250m \u001b[39m\u001b[38;5;28;01mimport\u001b[39;00m Path\n\u001b[32m----> \u001b[39m\u001b[32m4\u001b[39m sys.path.append(\u001b[38;5;28mstr\u001b[39m(Path(\u001b[34;43m__file__\u001b[39;49m).resolve().parents[\u001b[32m1\u001b[39m] / \u001b[33m\"\u001b[39m\u001b[33msrc\u001b[39m\u001b[33m\"\u001b[39m))\n\u001b[32m      6\u001b[39m \u001b[38;5;28;01mfrom\u001b[39;00m\u001b[38;5;250m \u001b[39m\u001b[34;01membeddings\u001b[39;00m\u001b[34;01m.\u001b[39;00m\u001b[34;01mencoder\u001b[39;00m\u001b[38;5;250m \u001b[39m\u001b[38;5;28;01mimport\u001b[39;00m TextEncoder\n\u001b[32m      7\u001b[39m \u001b[38;5;28;01mfrom\u001b[39;00m\u001b[38;5;250m \u001b[39m\u001b[34;01mrag\u001b[39;00m\u001b[34;01m.\u001b[39;00m\u001b[34;01mpipeline\u001b[39;00m\u001b[38;5;250m \u001b[39m\u001b[38;5;28;01mimport\u001b[39;00m RetrievalAugmentedGenerator\n",
      "\u001b[31mNameError\u001b[39m: name '__file__' is not defined"
     ]
    }
   ],
   "source": [
    "import sys\n",
    "from pathlib import Path\n",
    "\n",
    "# sys.path.append(str(Path(__file__).resolve().parents[1] / \"src\"))\n",
    "sys.path.append(\"../src\")\n",
    "\n",
    "from embeddings.encoder import TextEncoder\n",
    "from rag.pipeline import RetrievalAugmentedGenerator\n",
    "from evaluation.metrics import average_precision_at_k"
   ]
  },
  {
   "cell_type": "markdown",
   "id": "c20efb91",
   "metadata": {},
   "source": [
    "**Sample document corpus**"
   ]
  },
  {
   "cell_type": "code",
   "execution_count": null,
   "id": "62bc3ad4",
   "metadata": {},
   "outputs": [],
   "source": [
    "documents = [\n",
    "    \"Artificial intelligence is the simulation of human intelligence by machines.\",\n",
    "    \"These machines are capable of learning and problem-solving.\",\n",
    "    \"Applications include language models, recommendation systems, and robotics.\",\n",
    "]\n",
    "\n",
    "query = \"How do machines simulate intelligence?\"\n",
    "relevant_answer = \"Artificial intelligence is the simulation of human intelligence by machines.\""
   ]
  },
  {
   "cell_type": "markdown",
   "id": "88a424b9",
   "metadata": {},
   "source": [
    "**Initialize & Run RAG**"
   ]
  },
  {
   "cell_type": "code",
   "execution_count": null,
   "id": "747058de",
   "metadata": {},
   "outputs": [],
   "source": [
    "encoder = TextEncoder()\n",
    "rag = RetrievalAugmentedGenerator(documents, encoder)\n",
    "\n",
    "# Run RAG\n",
    "print(\"🔍 Query:\", query)\n",
    "answer = rag.generate_answer(query)\n",
    "print(\"🧠 Generated Answer:\\n\", answer)\n",
    "\n",
    "# Evaluation\n",
    "query_emb = encoder.encode_single(query)\n",
    "chunk_embs = encoder.encode(rag.chunks)\n",
    "\n",
    "# Manually identify which chunk is relevant (e.g. index 0)\n",
    "relevant_idx = rag.chunks.index(relevant_answer)\n",
    "\n",
    "# Score\n",
    "ap_score = average_precision_at_k(query_emb, chunk_embs, [relevant_idx], k=3)\n",
    "print(f\"\\n📊 AP@3: {ap_score:.4f}\")\n"
   ]
  }
 ],
 "metadata": {
  "kernelspec": {
   "display_name": ".venv",
   "language": "python",
   "name": "python3"
  },
  "language_info": {
   "codemirror_mode": {
    "name": "ipython",
    "version": 3
   },
   "file_extension": ".py",
   "mimetype": "text/x-python",
   "name": "python",
   "nbconvert_exporter": "python",
   "pygments_lexer": "ipython3",
   "version": "3.12.9"
  }
 },
 "nbformat": 4,
 "nbformat_minor": 5
}
