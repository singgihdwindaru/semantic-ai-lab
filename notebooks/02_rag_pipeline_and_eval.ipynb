{
 "cells": [
  {
   "cell_type": "markdown",
   "id": "317282a6",
   "metadata": {},
   "source": [
    "**Setup Import**"
   ]
  },
  {
   "cell_type": "code",
   "execution_count": 2,
   "id": "1a85fb35",
   "metadata": {},
   "outputs": [
    {
     "name": "stderr",
     "output_type": "stream",
     "text": [
      "d:\\public\\semantic-ai-lab\\.venv\\Lib\\site-packages\\tqdm\\auto.py:21: TqdmWarning: IProgress not found. Please update jupyter and ipywidgets. See https://ipywidgets.readthedocs.io/en/stable/user_install.html\n",
      "  from .autonotebook import tqdm as notebook_tqdm\n",
      "[nltk_data] Downloading package punkt to\n",
      "[nltk_data]     C:\\Users\\singgih.dwindaru\\AppData\\Roaming\\nltk_data...\n",
      "[nltk_data]   Package punkt is already up-to-date!\n"
     ]
    }
   ],
   "source": [
    "import sys\n",
    "from pathlib import Path\n",
    "\n",
    "# sys.path.append(str(Path(__file__).resolve().parents[1] / \"src\"))\n",
    "sys.path.append(\"../src\")\n",
    "\n",
    "from embeddings.encoder import TextEncoder\n",
    "from rag.pipeline import RetrievalAugmentedGenerator\n",
    "from evaluation.metrics import average_precision_at_k"
   ]
  },
  {
   "cell_type": "markdown",
   "id": "c20efb91",
   "metadata": {},
   "source": [
    "**Sample document corpus**"
   ]
  },
  {
   "cell_type": "code",
   "execution_count": 3,
   "id": "62bc3ad4",
   "metadata": {},
   "outputs": [],
   "source": [
    "documents = [\n",
    "    \"Artificial intelligence is the simulation of human intelligence by machines.\",\n",
    "    \"These machines are capable of learning and problem-solving.\",\n",
    "    \"Applications include language models, recommendation systems, and robotics.\",\n",
    "]\n",
    "\n",
    "query = \"How do machines simulate intelligence?\"\n",
    "relevant_answer = \"Artificial intelligence is the simulation of human intelligence by machines.\""
   ]
  },
  {
   "cell_type": "markdown",
   "id": "88a424b9",
   "metadata": {},
   "source": [
    "**Initialize & Run RAG**"
   ]
  },
  {
   "cell_type": "code",
   "execution_count": 4,
   "id": "747058de",
   "metadata": {},
   "outputs": [
    {
     "name": "stdout",
     "output_type": "stream",
     "text": [
      "🔍 Query: How do machines simulate intelligence?\n",
      "🧠 Generated Answer:\n",
      " Artificial intelligence is the simulation of human intelligence by machines. These machines are capable of learning and problem-solving. Applications include language models, recommendation systems, and robotics.\n",
      "\n",
      "📊 AP@3: 1.0000\n"
     ]
    }
   ],
   "source": [
    "encoder = TextEncoder()\n",
    "rag = RetrievalAugmentedGenerator(documents, encoder)\n",
    "\n",
    "# Run RAG\n",
    "print(\"🔍 Query:\", query)\n",
    "answer = rag.generate_answer(query)\n",
    "print(\"🧠 Generated Answer:\\n\", answer)\n",
    "\n",
    "# Evaluation\n",
    "query_emb = encoder.encode_single(query)\n",
    "chunk_embs = encoder.encode(rag.chunks)\n",
    "\n",
    "# Manually identify which chunk is relevant (e.g. index 0)\n",
    "relevant_idx = rag.chunks.index(relevant_answer)\n",
    "\n",
    "# Score\n",
    "ap_score = average_precision_at_k(query_emb, chunk_embs, [relevant_idx], k=3)\n",
    "print(f\"\\n📊 AP@3: {ap_score:.4f}\")\n"
   ]
  }
 ],
 "metadata": {
  "kernelspec": {
   "display_name": ".venv",
   "language": "python",
   "name": "python3"
  },
  "language_info": {
   "codemirror_mode": {
    "name": "ipython",
    "version": 3
   },
   "file_extension": ".py",
   "mimetype": "text/x-python",
   "name": "python",
   "nbconvert_exporter": "python",
   "pygments_lexer": "ipython3",
   "version": "3.12.9"
  }
 },
 "nbformat": 4,
 "nbformat_minor": 5
}
