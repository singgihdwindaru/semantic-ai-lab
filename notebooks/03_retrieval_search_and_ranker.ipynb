{
 "cells": [
  {
   "cell_type": "markdown",
   "id": "f2edbe4c",
   "metadata": {},
   "source": [
    "**Setup Imports**"
   ]
  },
  {
   "cell_type": "code",
   "execution_count": 2,
   "id": "45169d75",
   "metadata": {},
   "outputs": [
    {
     "name": "stderr",
     "output_type": "stream",
     "text": [
      "d:\\public\\semantic-ai-lab\\.venv\\Lib\\site-packages\\tqdm\\auto.py:21: TqdmWarning: IProgress not found. Please update jupyter and ipywidgets. See https://ipywidgets.readthedocs.io/en/stable/user_install.html\n",
      "  from .autonotebook import tqdm as notebook_tqdm\n"
     ]
    }
   ],
   "source": [
    "import sys\n",
    "sys.path.append(\"../src\")\n",
    "\n",
    "from embeddings.encoder import TextEncoder\n",
    "from retrieval.search import DenseRetriever\n",
    "from retrieval.ranker import SimilarityRanker"
   ]
  },
  {
   "cell_type": "markdown",
   "id": "c8327861",
   "metadata": {},
   "source": [
    "**Sample Data**"
   ]
  },
  {
   "cell_type": "code",
   "execution_count": 3,
   "id": "8bc4d48f",
   "metadata": {},
   "outputs": [],
   "source": [
    "\n",
    "docs = [\n",
    "    \"The moon orbits the Earth.\",\n",
    "    \"Artificial intelligence simulates human cognition.\",\n",
    "    \"Water boils at 100 degrees Celsius.\",\n",
    "]"
   ]
  },
  {
   "cell_type": "markdown",
   "id": "cb389d6f",
   "metadata": {},
   "source": [
    "**Init Encoder**"
   ]
  },
  {
   "cell_type": "code",
   "execution_count": 4,
   "id": "705c2fb4",
   "metadata": {},
   "outputs": [],
   "source": [
    "encoder = TextEncoder()\n",
    "chunks = docs  # Assume no chunking needed here\n",
    "embeddings = encoder.encode(chunks)\n",
    "query = \"What is AI?\"\n",
    "query_embedding = encoder.encode_single(query)"
   ]
  },
  {
   "cell_type": "markdown",
   "id": "f72354dc",
   "metadata": {},
   "source": [
    "**Retrieval**"
   ]
  },
  {
   "cell_type": "code",
   "execution_count": 5,
   "id": "e1207fcd",
   "metadata": {},
   "outputs": [
    {
     "name": "stdout",
     "output_type": "stream",
     "text": [
      "🔍 Top Retrieved: ['Artificial intelligence simulates human cognition.', 'The moon orbits the Earth.']\n",
      "🏅 Ranked Results: [('Artificial intelligence simulates human cognition.', np.float32(0.55503637)), ('The moon orbits the Earth.', np.float32(0.14625242)), ('Water boils at 100 degrees Celsius.', np.float32(0.041869108))]\n"
     ]
    }
   ],
   "source": [
    "# Search\n",
    "retriever = DenseRetriever(embeddings, chunks)\n",
    "top_docs = retriever.search(query_embedding, top_k=2)\n",
    "\n",
    "# Rank\n",
    "ranker = SimilarityRanker()\n",
    "ranked_docs = ranker.rank(query_embedding, embeddings, chunks)\n",
    "\n",
    "\n",
    "print(\"🔍 Top Retrieved:\", top_docs)\n",
    "print(\"🏅 Ranked Results:\", ranked_docs)"
   ]
  }
 ],
 "metadata": {
  "kernelspec": {
   "display_name": ".venv",
   "language": "python",
   "name": "python3"
  },
  "language_info": {
   "codemirror_mode": {
    "name": "ipython",
    "version": 3
   },
   "file_extension": ".py",
   "mimetype": "text/x-python",
   "name": "python",
   "nbconvert_exporter": "python",
   "pygments_lexer": "ipython3",
   "version": "3.12.9"
  }
 },
 "nbformat": 4,
 "nbformat_minor": 5
}
