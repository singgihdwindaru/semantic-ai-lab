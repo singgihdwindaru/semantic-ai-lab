{
 "cells": [
  {
   "cell_type": "markdown",
   "id": "f2edbe4c",
   "metadata": {},
   "source": [
    "**Setup Imports**"
   ]
  },
  {
   "cell_type": "code",
   "execution_count": null,
   "id": "45169d75",
   "metadata": {},
   "outputs": [
    {
     "ename": "ModuleNotFoundError",
     "evalue": "No module named 'embeddings'",
     "output_type": "error",
     "traceback": [
      "\u001b[31m---------------------------------------------------------------------------\u001b[39m",
      "\u001b[31mModuleNotFoundError\u001b[39m                       Traceback (most recent call last)",
      "\u001b[36mCell\u001b[39m\u001b[36m \u001b[39m\u001b[32mIn[1]\u001b[39m\u001b[32m, line 4\u001b[39m\n\u001b[32m      1\u001b[39m \u001b[38;5;66;03m# import sys\u001b[39;00m\n\u001b[32m      2\u001b[39m \u001b[38;5;66;03m# sys.path.append(\"../src\")\u001b[39;00m\n\u001b[32m----> \u001b[39m\u001b[32m4\u001b[39m \u001b[38;5;28;01mfrom\u001b[39;00m\u001b[38;5;250m \u001b[39m\u001b[34;01membeddings\u001b[39;00m\u001b[34;01m.\u001b[39;00m\u001b[34;01mencoder\u001b[39;00m\u001b[38;5;250m \u001b[39m\u001b[38;5;28;01mimport\u001b[39;00m TextEncoder\n\u001b[32m      5\u001b[39m \u001b[38;5;28;01mfrom\u001b[39;00m\u001b[38;5;250m \u001b[39m\u001b[34;01mretrieval\u001b[39;00m\u001b[34;01m.\u001b[39;00m\u001b[34;01msearch\u001b[39;00m\u001b[38;5;250m \u001b[39m\u001b[38;5;28;01mimport\u001b[39;00m DenseRetriever\n\u001b[32m      6\u001b[39m \u001b[38;5;28;01mfrom\u001b[39;00m\u001b[38;5;250m \u001b[39m\u001b[34;01mretrieval\u001b[39;00m\u001b[34;01m.\u001b[39;00m\u001b[34;01mranker\u001b[39;00m\u001b[38;5;250m \u001b[39m\u001b[38;5;28;01mimport\u001b[39;00m SimilarityRanker\n",
      "\u001b[31mModuleNotFoundError\u001b[39m: No module named 'embeddings'"
     ]
    }
   ],
   "source": [
    "import sys\n",
    "sys.path.append(\"../src\")\n",
    "\n",
    "from embeddings.encoder import TextEncoder\n",
    "from retrieval.search import DenseRetriever\n",
    "from retrieval.ranker import SimilarityRanker"
   ]
  },
  {
   "cell_type": "markdown",
   "id": "c8327861",
   "metadata": {},
   "source": [
    "**Sample Data**"
   ]
  },
  {
   "cell_type": "code",
   "execution_count": null,
   "id": "8bc4d48f",
   "metadata": {},
   "outputs": [],
   "source": [
    "\n",
    "docs = [\n",
    "    \"The moon orbits the Earth.\",\n",
    "    \"Artificial intelligence simulates human cognition.\",\n",
    "    \"Water boils at 100 degrees Celsius.\",\n",
    "]"
   ]
  },
  {
   "cell_type": "markdown",
   "id": "cb389d6f",
   "metadata": {},
   "source": [
    "**Init Encoder**"
   ]
  },
  {
   "cell_type": "code",
   "execution_count": null,
   "id": "705c2fb4",
   "metadata": {},
   "outputs": [],
   "source": [
    "encoder = TextEncoder()\n",
    "chunks = docs  # Assume no chunking needed here\n",
    "embeddings = encoder.encode(chunks)\n",
    "query = \"What is AI?\"\n",
    "query_embedding = encoder.encode_single(query)"
   ]
  },
  {
   "cell_type": "markdown",
   "id": "f72354dc",
   "metadata": {},
   "source": [
    "**Retrieval**"
   ]
  },
  {
   "cell_type": "code",
   "execution_count": null,
   "id": "e1207fcd",
   "metadata": {},
   "outputs": [],
   "source": [
    "# Search\n",
    "retriever = DenseRetriever(embeddings, chunks)\n",
    "top_docs = retriever.search(query_embedding, top_k=2)\n",
    "\n",
    "# Rank\n",
    "ranker = SimilarityRanker()\n",
    "ranked_docs = ranker.rank(query_embedding, embeddings, chunks)\n",
    "\n",
    "\n",
    "print(\"🔍 Top Retrieved:\", top_docs)\n",
    "print(\"🏅 Ranked Results:\", ranked_docs)"
   ]
  }
 ],
 "metadata": {
  "kernelspec": {
   "display_name": ".venv",
   "language": "python",
   "name": "python3"
  },
  "language_info": {
   "codemirror_mode": {
    "name": "ipython",
    "version": 3
   },
   "file_extension": ".py",
   "mimetype": "text/x-python",
   "name": "python",
   "nbconvert_exporter": "python",
   "pygments_lexer": "ipython3",
   "version": "3.12.9"
  }
 },
 "nbformat": 4,
 "nbformat_minor": 5
}
